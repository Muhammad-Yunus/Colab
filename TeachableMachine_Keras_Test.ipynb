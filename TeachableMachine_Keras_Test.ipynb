{
  "nbformat": 4,
  "nbformat_minor": 0,
  "metadata": {
    "colab": {
      "name": "twenty_images_keras_test.ipynb의 사본",
      "provenance": [],
      "collapsed_sections": []
    },
    "kernelspec": {
      "name": "python3",
      "display_name": "Python 3"
    }
  },
  "cells": [
    {
      "cell_type": "code",
      "metadata": {
        "id": "TpI8hGas6_LY"
      },
      "source": [
        "\n",
        "import tensorflow as tf\n",
        "import tensorflow.keras\n",
        "from PIL import Image, ImageOps\n",
        "import numpy as np\n",
        "import matplotlib.pyplot as plt"
      ],
      "execution_count": 12,
      "outputs": []
    },
    {
      "cell_type": "code",
      "metadata": {
        "id": "wDl4rMrMhpfj"
      },
      "source": [
        "np.set_printoptions(suppress=True)"
      ],
      "execution_count": 2,
      "outputs": []
    },
    {
      "cell_type": "code",
      "metadata": {
        "id": "jBUvkgSbiEyk",
        "outputId": "ae2ade44-f190-4c2b-f955-5b78ffb92ad2",
        "colab": {
          "resources": {
            "http://localhost:8080/nbextensions/google.colab/files.js": {
              "data": "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",
              "ok": true,
              "headers": [
                [
                  "content-type",
                  "application/javascript"
                ]
              ],
              "status": 200,
              "status_text": ""
            }
          },
          "base_uri": "https://localhost:8080/",
          "height": 106
        }
      },
      "source": [
        "print('Upload twenty_images.zip here!')\n",
        "\n",
        "from google.colab import files\n",
        "\n",
        "uploaded = files.upload()\n",
        "\n",
        "for fn in uploaded.keys():\n",
        "  print('User uploaded file \"{name}\" with length {length} bytes'.format(\n",
        "      name=fn, length=len(uploaded[fn])))"
      ],
      "execution_count": 5,
      "outputs": [
        {
          "output_type": "stream",
          "text": [
            "Upload twenty_images.zip here!\n"
          ],
          "name": "stdout"
        },
        {
          "output_type": "display_data",
          "data": {
            "text/html": [
              "\n",
              "     <input type=\"file\" id=\"files-45ec91c0-b9ba-4279-9d07-47286ebb9eb7\" name=\"files[]\" multiple disabled\n",
              "        style=\"border:none\" />\n",
              "     <output id=\"result-45ec91c0-b9ba-4279-9d07-47286ebb9eb7\">\n",
              "      Upload widget is only available when the cell has been executed in the\n",
              "      current browser session. Please rerun this cell to enable.\n",
              "      </output>\n",
              "      <script src=\"/nbextensions/google.colab/files.js\"></script> "
            ],
            "text/plain": [
              "<IPython.core.display.HTML object>"
            ]
          },
          "metadata": {
            "tags": []
          }
        },
        {
          "output_type": "stream",
          "text": [
            "Saving keras_model.h5 to keras_model.h5\n",
            "User uploaded file \"keras_model.h5\" with length 2472496 bytes\n"
          ],
          "name": "stdout"
        }
      ]
    },
    {
      "cell_type": "code",
      "metadata": {
        "id": "ooX1IP1SJPr9",
        "outputId": "77d03572-03a2-41db-e3fd-46c5be4bf10c",
        "colab": {
          "base_uri": "https://localhost:8080/",
          "height": 102
        }
      },
      "source": [
        "!ls -lAh"
      ],
      "execution_count": 7,
      "outputs": [
        {
          "output_type": "stream",
          "text": [
            "total 2.7M\n",
            "drwxr-xr-x 1 root root 4.0K Oct 14 16:32 .config\n",
            "-rw-r--r-- 1 root root 2.4M Oct 26 04:23 keras_model.h5\n",
            "-rw-r--r-- 1 root root 312K Oct 26 04:22 ocr_dataset.zip\n",
            "drwxr-xr-x 1 root root 4.0K Oct 14 16:31 sample_data\n"
          ],
          "name": "stdout"
        }
      ]
    },
    {
      "cell_type": "code",
      "metadata": {
        "id": "3DUgrEehKbfG",
        "outputId": "e8a36365-3c1f-4196-b66f-f882da94bf0d",
        "colab": {
          "resources": {
            "http://localhost:8080/nbextensions/google.colab/files.js": {
              "data": "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",
              "ok": true,
              "headers": [
                [
                  "content-type",
                  "application/javascript"
                ]
              ],
              "status": 200,
              "status_text": ""
            }
          },
          "base_uri": "https://localhost:8080/",
          "height": 106
        }
      },
      "source": [
        "print('Upload converted labels.txt here!')\n",
        "from google.colab import files\n",
        "\n",
        "uploaded = files.upload()\n",
        "\n",
        "for fn in uploaded.keys():\n",
        "  print('User uploaded file \"{name}\" with length {length} bytes'.format(\n",
        "      name=fn, length=len(uploaded[fn])))"
      ],
      "execution_count": 18,
      "outputs": [
        {
          "output_type": "stream",
          "text": [
            "Upload converted labels.txt here!\n"
          ],
          "name": "stdout"
        },
        {
          "output_type": "display_data",
          "data": {
            "text/html": [
              "\n",
              "     <input type=\"file\" id=\"files-8611cb80-777f-4b78-9f14-889c369ebb96\" name=\"files[]\" multiple disabled\n",
              "        style=\"border:none\" />\n",
              "     <output id=\"result-8611cb80-777f-4b78-9f14-889c369ebb96\">\n",
              "      Upload widget is only available when the cell has been executed in the\n",
              "      current browser session. Please rerun this cell to enable.\n",
              "      </output>\n",
              "      <script src=\"/nbextensions/google.colab/files.js\"></script> "
            ],
            "text/plain": [
              "<IPython.core.display.HTML object>"
            ]
          },
          "metadata": {
            "tags": []
          }
        },
        {
          "output_type": "stream",
          "text": [
            "Saving labels.txt to labels.txt\n",
            "User uploaded file \"labels.txt\" with length 155 bytes\n"
          ],
          "name": "stdout"
        }
      ]
    },
    {
      "cell_type": "code",
      "metadata": {
        "id": "MSHqTa8sKzgy",
        "outputId": "46b01e30-75cc-4881-fab7-57531938cbe5",
        "colab": {
          "base_uri": "https://localhost:8080/",
          "height": 54
        }
      },
      "source": [
        "classesFile = \"labels.txt\"\n",
        "\n",
        "classes = None\n",
        "with open(classesFile, 'rt') as f:\n",
        "    classes = f.read().rstrip('\\n').split('\\n')\n",
        "    \n",
        "print(classes)"
      ],
      "execution_count": 19,
      "outputs": [
        {
          "output_type": "stream",
          "text": [
            "['0 0', '1 1', '2 2', '3 3', '4 4', '5 5', '6 6', '7 7', '8 8', '9 9', '10 A', '11 B', '12 C', '13 D', '14 E', '15 F', '16 G', '17 H', '18 J', '19 K', '20 L', '21 M', '22 N', '23 P', '24 Q', '25 R', '26 S', '27 T', '28 U', '29 V', '30 X', '31 Y', '32 Z']\n"
          ],
          "name": "stdout"
        }
      ]
    },
    {
      "cell_type": "code",
      "metadata": {
        "id": "A5Re7G2rc5Au",
        "outputId": "e7d6600f-b9e5-496f-ad91-9af660baaede",
        "colab": {
          "resources": {
            "http://localhost:8080/nbextensions/google.colab/files.js": {
              "data": "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",
              "ok": true,
              "headers": [
                [
                  "content-type",
                  "application/javascript"
                ]
              ],
              "status": 200,
              "status_text": ""
            }
          },
          "base_uri": "https://localhost:8080/",
          "height": 114
        }
      },
      "source": [
        "print('Upload converted keras_model.h5 here!')\n",
        "from google.colab import files\n",
        "\n",
        "uploaded = files.upload()\n",
        "\n",
        "for fn in uploaded.keys():\n",
        "  print('User uploaded file \"{name}\" with length {length} bytes'.format(\n",
        "      name=fn, length=len(uploaded[fn])))"
      ],
      "execution_count": null,
      "outputs": [
        {
          "output_type": "stream",
          "text": [
            "Upload converted keras_model.h5 here!\n"
          ],
          "name": "stdout"
        },
        {
          "output_type": "display_data",
          "data": {
            "text/html": [
              "\n",
              "     <input type=\"file\" id=\"files-41e4840e-c713-451f-9243-685bf0e1a2d3\" name=\"files[]\" multiple disabled />\n",
              "     <output id=\"result-41e4840e-c713-451f-9243-685bf0e1a2d3\">\n",
              "      Upload widget is only available when the cell has been executed in the\n",
              "      current browser session. Please rerun this cell to enable.\n",
              "      </output>\n",
              "      <script src=\"/nbextensions/google.colab/files.js\"></script> "
            ],
            "text/plain": [
              "<IPython.core.display.HTML object>"
            ]
          },
          "metadata": {
            "tags": []
          }
        },
        {
          "output_type": "stream",
          "text": [
            "Saving keras_model.h5 to keras_model.h5\n",
            "User uploaded file \"keras_model.h5\" with length 2458120 bytes\n"
          ],
          "name": "stdout"
        }
      ]
    },
    {
      "cell_type": "code",
      "metadata": {
        "id": "PXSUV1BSiLAH"
      },
      "source": [
        "!unzip -q \"ocr_dataset.zip\" -d samples/"
      ],
      "execution_count": 8,
      "outputs": []
    },
    {
      "cell_type": "code",
      "metadata": {
        "id": "NbxEN37HJqby",
        "outputId": "0c3c9221-c2ac-4067-e42f-ca65e36e227f",
        "colab": {
          "base_uri": "https://localhost:8080/",
          "height": 34
        }
      },
      "source": [
        "!ls samples"
      ],
      "execution_count": 10,
      "outputs": [
        {
          "output_type": "stream",
          "text": [
            "ocr_dataset\n"
          ],
          "name": "stdout"
        }
      ]
    },
    {
      "cell_type": "code",
      "metadata": {
        "id": "A8g9WfenDqem"
      },
      "source": [
        "test_set = np.ndarray(shape=(1, 224, 224, 3), dtype=np.float32)"
      ],
      "execution_count": 15,
      "outputs": []
    },
    {
      "cell_type": "code",
      "metadata": {
        "id": "GwevlXlg7ICB",
        "outputId": "77534048-4552-4a72-9889-48e5c13ac042",
        "colab": {
          "base_uri": "https://localhost:8080/",
          "height": 34
        }
      },
      "source": [
        "model = tensorflow.keras.models.load_model('keras_model.h5')"
      ],
      "execution_count": 14,
      "outputs": [
        {
          "output_type": "stream",
          "text": [
            "WARNING:tensorflow:No training configuration found in the save file, so the model was *not* compiled. Compile it manually.\n"
          ],
          "name": "stdout"
        }
      ]
    },
    {
      "cell_type": "code",
      "metadata": {
        "id": "h85IRQ8OipSo",
        "outputId": "74628b1f-2b06-4ae4-f262-840c49d65922",
        "colab": {
          "base_uri": "https://localhost:8080/",
          "height": 1000
        }
      },
      "source": [
        "image_list = []\n",
        "import os \n",
        "dataset = \"samples/ocr_dataset/\"\n",
        "\n",
        "for folder in os.listdir(dataset):\n",
        "    for filename in os.listdir(dataset + folder) :\n",
        "        image = Image.open(dataset + folder + \"/\" + filename)\n",
        "        size = (224, 224)\n",
        "        image = ImageOps.fit(image, size, Image.ANTIALIAS)\n",
        "        image_array = np.asarray(image)\n",
        "        normalized_image_array = (image_array.astype(np.float32) / 127.0) - 1\n",
        "        test_set[0] = normalized_image_array\n",
        "        prediction = model.predict(test_set)\n",
        "        predicted_label = [ \"{} ({:.2f} %) {}\".format( classes[idx][-1], prediction[0][idx], folder == classes[idx][-1]) for idx in np.argsort(prediction)[0][-2:][::-1]]\n",
        "        print(filename, \"\\t --> \", predicted_label[0], \"\\t\", predicted_label[1])"
      ],
      "execution_count": 21,
      "outputs": [
        {
          "output_type": "stream",
          "text": [
            "0_7.jpg \t -->  9 (0.48 %) False \t B (0.46 %) False\n",
            "0_2.jpg \t -->  X (0.73 %) False \t M (0.13 %) False\n",
            "0_0.jpg \t -->  9 (0.96 %) False \t 0 (0.03 %) True\n",
            "0_3.jpg \t -->  Q (0.88 %) False \t D (0.04 %) False\n",
            "0_1.jpg \t -->  0 (0.94 %) True \t Q (0.04 %) False\n",
            "0_9.jpg \t -->  9 (0.99 %) False \t 0 (0.00 %) True\n",
            "0_5.jpg \t -->  0 (0.72 %) True \t Q (0.26 %) False\n",
            "0_6.jpg \t -->  9 (1.00 %) False \t 0 (0.00 %) True\n",
            "0_8.jpg \t -->  9 (1.00 %) False \t B (0.00 %) False\n",
            "0_4.jpg \t -->  0 (0.56 %) True \t Q (0.34 %) False\n",
            "D_4.jpg \t -->  Q (0.82 %) False \t D (0.17 %) True\n",
            "D_5.jpg \t -->  Q (0.93 %) False \t 0 (0.03 %) False\n",
            "D_0.jpg \t -->  9 (0.61 %) False \t Q (0.10 %) False\n",
            "D_3.jpg \t -->  Q (0.77 %) False \t D (0.16 %) True\n",
            "D_9.jpg \t -->  B (0.89 %) False \t D (0.10 %) True\n",
            "D_2.jpg \t -->  Q (0.57 %) False \t 4 (0.29 %) False\n",
            "D_6.jpg \t -->  9 (0.97 %) False \t 4 (0.01 %) False\n",
            "D_7.jpg \t -->  Q (0.97 %) False \t D (0.01 %) True\n",
            "D_1.jpg \t -->  Q (0.91 %) False \t D (0.06 %) True\n",
            "D_8.jpg \t -->  B (0.93 %) False \t D (0.07 %) True\n",
            "4_7.jpg \t -->  4 (0.90 %) True \t K (0.04 %) False\n",
            "4_3.jpg \t -->  4 (0.73 %) True \t G (0.12 %) False\n",
            "4_6.jpg \t -->  4 (0.33 %) True \t K (0.31 %) False\n",
            "4_9.jpg \t -->  4 (0.93 %) True \t N (0.05 %) False\n",
            "4_8.jpg \t -->  9 (0.65 %) False \t K (0.25 %) False\n",
            "4_0.jpg \t -->  4 (0.99 %) True \t K (0.00 %) False\n",
            "4_5.jpg \t -->  4 (0.82 %) True \t Q (0.16 %) False\n",
            "4_4.jpg \t -->  4 (0.63 %) True \t M (0.12 %) False\n",
            "4_2.jpg \t -->  4 (0.94 %) True \t 9 (0.06 %) False\n",
            "4_1.jpg \t -->  4 (1.00 %) True \t A (0.00 %) False\n",
            "K_6.jpg \t -->  K (0.57 %) True \t 4 (0.31 %) False\n",
            "1.jpg \t -->  K (0.70 %) True \t M (0.16 %) False\n",
            "K_4.jpg \t -->  K (0.99 %) True \t M (0.01 %) False\n",
            "K_8.jpg \t -->  4 (0.55 %) False \t M (0.39 %) False\n",
            "K_5.jpg \t -->  K (0.83 %) True \t 4 (0.07 %) False\n",
            "K_7.jpg \t -->  X (0.41 %) False \t K (0.23 %) True\n",
            "4.jpg \t -->  K (0.84 %) True \t M (0.13 %) False\n",
            "K_2.jpg \t -->  4 (0.55 %) False \t M (0.29 %) False\n",
            "K_3.jpg \t -->  4 (0.80 %) False \t M (0.10 %) False\n",
            "K_10.jpg \t -->  K (0.74 %) True \t 4 (0.15 %) False\n",
            "K_9.jpg \t -->  4 (0.65 %) False \t M (0.24 %) False\n",
            "K_1.jpg \t -->  K (0.77 %) True \t 4 (0.19 %) False\n",
            "K_11.jpg \t -->  M (0.61 %) False \t K (0.19 %) True\n",
            "7.jpg \t -->  K (0.66 %) True \t M (0.30 %) False\n",
            "K_0.jpg \t -->  M (0.57 %) False \t K (0.38 %) True\n",
            "2_1.jpg \t -->  2 (1.00 %) True \t B (0.00 %) False\n",
            "2_4.jpg \t -->  2 (0.95 %) True \t M (0.05 %) False\n",
            "2_6.jpg \t -->  2 (0.97 %) True \t M (0.03 %) False\n",
            "2_0.jpg \t -->  2 (0.97 %) True \t M (0.03 %) False\n",
            "2_3.jpg \t -->  2 (1.00 %) True \t M (0.00 %) False\n",
            "2_7.jpg \t -->  2 (1.00 %) True \t M (0.00 %) False\n",
            "2_8.jpg \t -->  2 (0.83 %) True \t M (0.16 %) False\n",
            "2_5.jpg \t -->  2 (0.99 %) True \t M (0.01 %) False\n",
            "2_2.jpg \t -->  2 (1.00 %) True \t M (0.00 %) False\n",
            "2_9.jpg \t -->  2 (1.00 %) True \t M (0.00 %) False\n",
            "X_2.jpg \t -->  X (0.96 %) True \t M (0.03 %) False\n",
            "X_5.jpg \t -->  X (0.56 %) True \t 4 (0.21 %) False\n",
            "X_0.jpg \t -->  X (0.98 %) True \t 4 (0.01 %) False\n",
            "X_4.jpg \t -->  X (0.89 %) True \t M (0.08 %) False\n",
            "X_3.jpg \t -->  X (0.92 %) True \t M (0.08 %) False\n",
            "X_8.jpg \t -->  X (0.96 %) True \t M (0.03 %) False\n",
            "X_6.jpg \t -->  X (0.99 %) True \t 4 (0.01 %) False\n",
            "X_7.jpg \t -->  X (0.98 %) True \t M (0.01 %) False\n",
            "X_9.jpg \t -->  X (0.99 %) True \t 4 (0.00 %) False\n",
            "X_1.jpg \t -->  X (0.99 %) True \t 4 (0.00 %) False\n",
            "N_9.jpg \t -->  N (0.89 %) True \t Z (0.06 %) False\n",
            "N_2.jpg \t -->  4 (0.36 %) False \t K (0.31 %) False\n",
            "N_8.jpg \t -->  N (0.86 %) True \t T (0.05 %) False\n",
            "N_0.jpg \t -->  M (0.88 %) False \t X (0.08 %) False\n",
            "N_7.jpg \t -->  M (0.54 %) False \t K (0.20 %) False\n",
            "N_3.jpg \t -->  M (0.72 %) False \t N (0.22 %) True\n",
            "N_5.jpg \t -->  M (0.71 %) False \t N (0.18 %) True\n",
            "N_4.jpg \t -->  4 (0.73 %) False \t M (0.23 %) False\n",
            "N_6.jpg \t -->  M (0.67 %) False \t K (0.11 %) False\n",
            "N_1.jpg \t -->  N (0.60 %) True \t M (0.31 %) False\n",
            "M_7.jpg \t -->  M (1.00 %) True \t U (0.00 %) False\n",
            "M_8.jpg \t -->  M (1.00 %) True \t U (0.00 %) False\n",
            "M_1.jpg \t -->  M (1.00 %) True \t 9 (0.00 %) False\n",
            "M_0.jpg \t -->  M (1.00 %) True \t K (0.00 %) False\n",
            "M_9.jpg \t -->  M (1.00 %) True \t T (0.00 %) False\n",
            "M_5.jpg \t -->  M (1.00 %) True \t K (0.00 %) False\n",
            "M_3.jpg \t -->  M (0.98 %) True \t 9 (0.00 %) False\n",
            "M_6.jpg \t -->  M (0.98 %) True \t T (0.02 %) False\n",
            "M_2.jpg \t -->  M (1.00 %) True \t N (0.00 %) False\n",
            "M_4.jpg \t -->  M (0.98 %) True \t X (0.01 %) False\n",
            "7_4.jpg \t -->  4 (0.88 %) False \t A (0.03 %) False\n",
            "7_7.jpg \t -->  4 (0.58 %) False \t Q (0.09 %) False\n",
            "2.jpg \t -->  G (0.40 %) False \t M (0.18 %) False\n",
            "7_9.jpg \t -->  7 (0.35 %) True \t Z (0.18 %) False\n",
            "7_8.jpg \t -->  7 (0.41 %) True \t M (0.15 %) False\n",
            "7_6.jpg \t -->  M (0.75 %) False \t G (0.19 %) False\n",
            "7_5.jpg \t -->  G (0.30 %) False \t K (0.26 %) False\n",
            "7_3.jpg \t -->  4 (0.90 %) False \t K (0.03 %) False\n",
            "7_0.jpg \t -->  4 (0.31 %) False \t M (0.24 %) False\n",
            "5.jpg \t -->  X (0.90 %) False \t M (0.06 %) False\n",
            "7_1.jpg \t -->  K (0.77 %) False \t 7 (0.07 %) True\n",
            "7_2.jpg \t -->  4 (0.72 %) False \t K (0.12 %) False\n",
            "1_5.jpg \t -->  1 (0.82 %) True \t U (0.06 %) False\n",
            "1_8.jpg \t -->  1 (0.83 %) True \t U (0.09 %) False\n",
            "1_1.jpg \t -->  M (0.49 %) False \t 1 (0.09 %) True\n",
            "1_4.jpg \t -->  1 (0.74 %) True \t U (0.16 %) False\n",
            "1_10.jpg \t -->  T (0.41 %) False \t 1 (0.33 %) True\n",
            "1_7.jpg \t -->  1 (0.68 %) True \t N (0.15 %) False\n",
            "1_6.jpg \t -->  0 (0.45 %) False \t 1 (0.33 %) True\n",
            "1_0.jpg \t -->  1 (0.30 %) True \t D (0.14 %) False\n",
            "1_9.jpg \t -->  N (0.33 %) False \t 4 (0.22 %) False\n",
            "1_3.jpg \t -->  1 (0.59 %) True \t N (0.08 %) False\n",
            "1_2.jpg \t -->  G (0.28 %) False \t M (0.22 %) False\n",
            "9_9.jpg \t -->  9 (0.99 %) True \t 8 (0.01 %) False\n",
            "9_6.jpg \t -->  9 (1.00 %) True \t 8 (0.00 %) False\n",
            "9_2.jpg \t -->  9 (0.99 %) True \t 8 (0.01 %) False\n",
            "9_1.jpg \t -->  9 (1.00 %) True \t 8 (0.00 %) False\n",
            "9_7.jpg \t -->  9 (0.99 %) True \t 8 (0.01 %) False\n",
            "9_0.jpg \t -->  9 (1.00 %) True \t 8 (0.00 %) False\n",
            "9_5.jpg \t -->  9 (1.00 %) True \t S (0.00 %) False\n",
            "9_8.jpg \t -->  9 (0.72 %) True \t M (0.27 %) False\n",
            "9_4.jpg \t -->  9 (1.00 %) True \t M (0.00 %) False\n",
            "9_3.jpg \t -->  9 (1.00 %) True \t 8 (0.00 %) False\n",
            "7.jpg \t -->  9 (1.00 %) True \t 8 (0.00 %) False\n",
            "3_5.jpg \t -->  8 (0.64 %) False \t M (0.15 %) False\n",
            "3_1.jpg \t -->  9 (1.00 %) False \t 3 (0.00 %) True\n",
            "3_10.jpg \t -->  9 (0.59 %) False \t 3 (0.28 %) True\n",
            "2.jpg \t -->  9 (0.44 %) False \t 3 (0.40 %) True\n",
            "3_0.jpg \t -->  3 (0.82 %) True \t 8 (0.17 %) False\n",
            "3_3.jpg \t -->  9 (0.90 %) False \t 3 (0.05 %) True\n",
            "3_7.jpg \t -->  8 (0.51 %) False \t 9 (0.39 %) False\n",
            "3_8.jpg \t -->  9 (0.75 %) False \t 8 (0.12 %) False\n",
            "3_6.jpg \t -->  9 (0.71 %) False \t 8 (0.15 %) False\n",
            "3_4.jpg \t -->  9 (1.00 %) False \t M (0.00 %) False\n",
            "3_2.jpg \t -->  9 (0.64 %) False \t 3 (0.20 %) True\n",
            "3_9.jpg \t -->  3 (0.31 %) True \t 9 (0.30 %) False\n",
            "S_9.jpg \t -->  S (0.72 %) True \t 3 (0.13 %) False\n",
            "S_0.jpg \t -->  9 (0.68 %) False \t 8 (0.31 %) False\n",
            "S_6.jpg \t -->  9 (0.85 %) False \t 8 (0.14 %) False\n",
            "S_2.jpg \t -->  9 (0.69 %) False \t S (0.19 %) True\n",
            "S_8.jpg \t -->  9 (0.56 %) False \t S (0.24 %) True\n",
            "S_4.jpg \t -->  9 (0.66 %) False \t S (0.32 %) True\n",
            "S_7.jpg \t -->  9 (0.77 %) False \t 8 (0.20 %) False\n",
            "S_5.jpg \t -->  S (0.68 %) True \t 3 (0.26 %) False\n",
            "S_1.jpg \t -->  9 (0.99 %) False \t 8 (0.01 %) False\n",
            "S_3.jpg \t -->  8 (0.73 %) False \t 3 (0.21 %) False\n",
            "F_1.jpg \t -->  E (0.72 %) False \t 3 (0.11 %) False\n",
            "F_5.jpg \t -->  E (0.45 %) False \t 5 (0.24 %) False\n",
            "F_9.jpg \t -->  F (0.87 %) True \t T (0.07 %) False\n",
            "F_6.jpg \t -->  M (0.61 %) False \t D (0.10 %) False\n",
            "F_4.jpg \t -->  G (0.33 %) False \t S (0.17 %) False\n",
            "F_2.jpg \t -->  G (0.38 %) False \t D (0.24 %) False\n",
            "F_7.jpg \t -->  3 (0.30 %) False \t G (0.21 %) False\n",
            "F_3.jpg \t -->  G (0.60 %) False \t M (0.21 %) False\n",
            "F_0.jpg \t -->  R (0.39 %) False \t B (0.29 %) False\n",
            "F_8.jpg \t -->  5 (0.53 %) False \t F (0.21 %) True\n",
            "R_3.jpg \t -->  M (0.33 %) False \t 3 (0.15 %) False\n",
            "R_2.jpg \t -->  8 (0.69 %) False \t 3 (0.16 %) False\n",
            "R_5.jpg \t -->  M (0.85 %) False \t 8 (0.09 %) False\n",
            "R_9.jpg \t -->  M (0.45 %) False \t 8 (0.23 %) False\n",
            "R_1.jpg \t -->  9 (0.70 %) False \t 8 (0.15 %) False\n",
            "R_6.jpg \t -->  8 (0.39 %) False \t M (0.25 %) False\n",
            "R_0.jpg \t -->  M (0.45 %) False \t 8 (0.23 %) False\n",
            "R_4.jpg \t -->  8 (0.84 %) False \t R (0.06 %) True\n",
            "R_8.jpg \t -->  8 (0.63 %) False \t R (0.13 %) True\n",
            "R_7.jpg \t -->  4 (0.36 %) False \t R (0.30 %) True\n",
            "Y_4.jpg \t -->  M (0.76 %) False \t Y (0.14 %) True\n",
            "Y_8.jpg \t -->  M (0.45 %) False \t X (0.33 %) False\n",
            "Y_1.jpg \t -->  X (0.86 %) False \t 4 (0.06 %) False\n",
            "Y_2.jpg \t -->  M (0.74 %) False \t X (0.09 %) False\n",
            "Y_7.jpg \t -->  X (0.48 %) False \t 4 (0.23 %) False\n",
            "Y_9.jpg \t -->  X (0.79 %) False \t M (0.17 %) False\n",
            "Y_0.jpg \t -->  4 (0.63 %) False \t M (0.25 %) False\n",
            "Y_6.jpg \t -->  X (0.46 %) False \t 4 (0.28 %) False\n",
            "Y_3.jpg \t -->  M (0.52 %) False \t 4 (0.17 %) False\n",
            "Y_5.jpg \t -->  0 (0.66 %) False \t X (0.19 %) False\n",
            "J_9.jpg \t -->  U (0.34 %) False \t M (0.19 %) False\n",
            "6.jpg \t -->  U (0.84 %) False \t 4 (0.04 %) False\n",
            "J_4.jpg \t -->  M (0.46 %) False \t U (0.24 %) False\n",
            "J_2.jpg \t -->  M (0.38 %) False \t 4 (0.21 %) False\n",
            "J_1.jpg \t -->  M (0.51 %) False \t X (0.24 %) False\n",
            "J_0.jpg \t -->  M (0.87 %) False \t 4 (0.04 %) False\n",
            "J_3.jpg \t -->  N (0.54 %) False \t 4 (0.17 %) False\n",
            "J_8.jpg \t -->  0 (0.35 %) False \t U (0.18 %) False\n",
            "J_6.jpg \t -->  U (0.48 %) False \t N (0.11 %) False\n",
            "J_7.jpg \t -->  U (0.70 %) False \t G (0.10 %) False\n",
            "7.jpg \t -->  M (0.43 %) False \t N (0.27 %) False\n",
            "J_5.jpg \t -->  U (0.73 %) False \t H (0.07 %) False\n",
            "Q_8.jpg \t -->  Q (0.99 %) True \t 8 (0.01 %) False\n",
            "Q_2.jpg \t -->  Q (0.99 %) True \t 4 (0.00 %) False\n",
            "Q_3.jpg \t -->  Q (0.99 %) True \t 4 (0.01 %) False\n",
            "Q_7.jpg \t -->  Q (0.98 %) True \t 0 (0.01 %) False\n",
            "Q_9.jpg \t -->  Q (0.99 %) True \t 4 (0.01 %) False\n",
            "Q_4.jpg \t -->  Q (0.99 %) True \t 0 (0.00 %) False\n",
            "Q_5.jpg \t -->  Q (1.00 %) True \t D (0.00 %) False\n",
            "Q_0.jpg \t -->  Q (0.98 %) True \t 0 (0.01 %) False\n",
            "Q_6.jpg \t -->  Q (0.98 %) True \t 0 (0.01 %) False\n",
            "Q_1.jpg \t -->  Q (0.99 %) True \t 8 (0.01 %) False\n",
            "U_8.jpg \t -->  U (0.97 %) True \t 4 (0.02 %) False\n",
            "U_1.jpg \t -->  U (0.80 %) True \t M (0.11 %) False\n",
            "U_4.jpg \t -->  U (0.98 %) True \t N (0.01 %) False\n",
            "U_5.jpg \t -->  U (0.97 %) True \t 4 (0.01 %) False\n",
            "U_7.jpg \t -->  U (0.99 %) True \t R (0.00 %) False\n",
            "U_0.jpg \t -->  4 (0.51 %) False \t V (0.28 %) False\n",
            "U_6.jpg \t -->  4 (0.66 %) False \t M (0.07 %) False\n",
            "U_3.jpg \t -->  U (0.97 %) True \t N (0.01 %) False\n",
            "U_2.jpg \t -->  N (0.28 %) False \t K (0.21 %) False\n",
            "U_9.jpg \t -->  U (0.97 %) True \t X (0.01 %) False\n",
            "L_2.jpg \t -->  B (0.38 %) False \t 4 (0.09 %) False\n",
            "L_0.jpg \t -->  U (0.27 %) False \t H (0.16 %) False\n",
            "L_9.jpg \t -->  U (0.91 %) False \t L (0.06 %) True\n",
            "L_3.jpg \t -->  M (0.40 %) False \t U (0.28 %) False\n",
            "L_1.jpg \t -->  U (0.24 %) False \t D (0.23 %) False\n",
            "L_7.jpg \t -->  H (0.64 %) False \t U (0.21 %) False\n",
            "L_8.jpg \t -->  U (0.90 %) False \t H (0.04 %) False\n",
            "L_4.jpg \t -->  H (0.86 %) False \t G (0.07 %) False\n",
            "L_6.jpg \t -->  U (0.72 %) False \t L (0.10 %) True\n",
            "L_5.jpg \t -->  B (0.57 %) False \t H (0.22 %) False\n",
            "C_5.jpg \t -->  B (0.62 %) False \t M (0.22 %) False\n",
            "C_8.jpg \t -->  9 (0.99 %) False \t 0 (0.01 %) False\n",
            "C_2.jpg \t -->  G (0.31 %) False \t 0 (0.20 %) False\n",
            "C_0.jpg \t -->  9 (1.00 %) False \t 8 (0.00 %) False\n",
            "C_6.jpg \t -->  9 (1.00 %) False \t 8 (0.00 %) False\n",
            "C_3.jpg \t -->  G (0.85 %) False \t D (0.06 %) False\n",
            "C_7.jpg \t -->  9 (1.00 %) False \t 0 (0.00 %) False\n",
            "C_9.jpg \t -->  9 (1.00 %) False \t 8 (0.00 %) False\n",
            "C_4.jpg \t -->  X (0.72 %) False \t 9 (0.20 %) False\n",
            "C_1.jpg \t -->  9 (0.57 %) False \t S (0.10 %) False\n",
            "Z_5.jpg \t -->  Z (0.96 %) True \t N (0.01 %) False\n",
            "Z_0.jpg \t -->  Z (0.99 %) True \t N (0.00 %) False\n",
            "Z_3.jpg \t -->  Z (0.73 %) True \t 4 (0.11 %) False\n",
            "Z_8.jpg \t -->  Z (0.73 %) True \t 4 (0.11 %) False\n",
            "Z_6.jpg \t -->  4 (0.51 %) False \t Z (0.39 %) True\n",
            "Z_2.jpg \t -->  Z (0.97 %) True \t N (0.01 %) False\n",
            "Z_9.jpg \t -->  Z (0.99 %) True \t N (0.00 %) False\n",
            "Z_7.jpg \t -->  Z (0.98 %) True \t N (0.00 %) False\n",
            "Z_1.jpg \t -->  Z (0.99 %) True \t N (0.00 %) False\n",
            "Z_4.jpg \t -->  Z (0.95 %) True \t K (0.02 %) False\n",
            "B_8.jpg \t -->  9 (0.99 %) False \t 8 (0.01 %) False\n",
            "B_4.jpg \t -->  9 (1.00 %) False \t B (0.00 %) True\n",
            "B_0.jpg \t -->  9 (1.00 %) False \t M (0.00 %) False\n",
            "B_7.jpg \t -->  9 (0.86 %) False \t 8 (0.12 %) False\n",
            "B_2.jpg \t -->  9 (0.87 %) False \t 8 (0.11 %) False\n",
            "B_6.jpg \t -->  M (0.40 %) False \t B (0.23 %) True\n",
            "B_3.jpg \t -->  9 (0.99 %) False \t 8 (0.01 %) False\n",
            "B_5.jpg \t -->  9 (0.78 %) False \t B (0.07 %) True\n",
            "B_1.jpg \t -->  9 (1.00 %) False \t 8 (0.00 %) False\n",
            "B_9.jpg \t -->  B (0.49 %) True \t R (0.46 %) False\n",
            "V_0.jpg \t -->  4 (0.48 %) False \t V (0.39 %) True\n",
            "V_7.jpg \t -->  V (1.00 %) True \t X (0.00 %) False\n",
            "V_3.jpg \t -->  V (0.98 %) True \t X (0.01 %) False\n",
            "V_5.jpg \t -->  V (0.99 %) True \t M (0.00 %) False\n",
            "V_4.jpg \t -->  V (0.99 %) True \t X (0.00 %) False\n",
            "V_2.jpg \t -->  V (1.00 %) True \t X (0.00 %) False\n",
            "V_1.jpg \t -->  K (0.42 %) False \t M (0.37 %) False\n",
            "V_9.jpg \t -->  V (0.88 %) True \t X (0.11 %) False\n",
            "V_6.jpg \t -->  V (0.67 %) True \t 4 (0.17 %) False\n",
            "V_8.jpg \t -->  V (0.96 %) True \t 4 (0.02 %) False\n",
            "E_8.jpg \t -->  3 (0.27 %) False \t 6 (0.16 %) False\n",
            "E_2.jpg \t -->  E (0.99 %) True \t F (0.01 %) False\n",
            "E_9.jpg \t -->  8 (0.58 %) False \t 3 (0.15 %) False\n",
            "E_3.jpg \t -->  E (0.45 %) True \t S (0.24 %) False\n",
            "E_0.jpg \t -->  M (0.38 %) False \t E (0.18 %) True\n",
            "E_10.jpg \t -->  9 (0.48 %) False \t S (0.18 %) False\n",
            "E_7.jpg \t -->  E (0.68 %) True \t G (0.16 %) False\n",
            "3.jpg \t -->  R (0.34 %) False \t S (0.31 %) False\n",
            "E_6.jpg \t -->  M (0.40 %) False \t 3 (0.20 %) False\n",
            "E_4.jpg \t -->  B (0.59 %) False \t F (0.31 %) False\n",
            "E_1.jpg \t -->  E (0.77 %) True \t F (0.22 %) False\n",
            "E_5.jpg \t -->  R (0.80 %) False \t E (0.06 %) True\n",
            "7.jpg \t -->  M (0.76 %) False \t G (0.11 %) False\n",
            "T_9.jpg \t -->  T (0.86 %) True \t U (0.12 %) False\n",
            "T_4.jpg \t -->  T (0.92 %) True \t 1 (0.08 %) False\n",
            "T_8.jpg \t -->  T (0.76 %) True \t U (0.19 %) False\n",
            "T_5.jpg \t -->  1 (0.34 %) False \t T (0.25 %) True\n",
            "T_1.jpg \t -->  D (0.68 %) False \t 0 (0.10 %) False\n",
            "T_0.jpg \t -->  4 (0.33 %) False \t 0 (0.20 %) False\n",
            "T_6.jpg \t -->  T (0.97 %) True \t U (0.03 %) False\n",
            "T_2.jpg \t -->  T (0.92 %) True \t 1 (0.08 %) False\n",
            "T_3.jpg \t -->  1 (0.49 %) False \t 0 (0.35 %) False\n",
            "T_7.jpg \t -->  U (0.63 %) False \t T (0.35 %) True\n",
            "6_9.jpg \t -->  8 (0.82 %) False \t 9 (0.12 %) False\n",
            "6_1.jpg \t -->  9 (1.00 %) False \t P (0.00 %) False\n",
            "6_0.jpg \t -->  9 (0.96 %) False \t S (0.02 %) False\n",
            "6_3.jpg \t -->  9 (1.00 %) False \t 6 (0.00 %) True\n",
            "6_4.jpg \t -->  9 (0.98 %) False \t 3 (0.01 %) False\n",
            "6_6.jpg \t -->  9 (0.97 %) False \t 8 (0.02 %) False\n",
            "6_2.jpg \t -->  9 (1.00 %) False \t S (0.00 %) False\n",
            "6_5.jpg \t -->  9 (1.00 %) False \t 8 (0.00 %) False\n",
            "6_7.jpg \t -->  9 (0.99 %) False \t 8 (0.01 %) False\n",
            "6_8.jpg \t -->  9 (0.70 %) False \t S (0.17 %) False\n",
            "8_3.jpg \t -->  8 (0.75 %) True \t 9 (0.23 %) False\n",
            "8_6.jpg \t -->  9 (0.99 %) False \t 8 (0.01 %) True\n",
            "8_1.jpg \t -->  9 (1.00 %) False \t 8 (0.00 %) True\n",
            "8_4.jpg \t -->  8 (0.82 %) True \t X (0.09 %) False\n",
            "8_9.jpg \t -->  8 (0.99 %) True \t X (0.00 %) False\n",
            "8_2.jpg \t -->  9 (1.00 %) False \t 8 (0.00 %) True\n",
            "8_7.jpg \t -->  8 (0.99 %) True \t 9 (0.01 %) False\n",
            "8_5.jpg \t -->  9 (0.94 %) False \t 8 (0.06 %) True\n",
            "8_0.jpg \t -->  9 (0.93 %) False \t 8 (0.07 %) True\n",
            "8_8.jpg \t -->  8 (0.97 %) True \t 9 (0.03 %) False\n",
            "A_4.jpg \t -->  4 (0.70 %) False \t A (0.15 %) True\n",
            "A_5.jpg \t -->  4 (0.77 %) False \t 9 (0.18 %) False\n",
            "A_3.jpg \t -->  A (0.91 %) True \t 4 (0.06 %) False\n",
            "A_16.jpg \t -->  4 (0.59 %) False \t A (0.15 %) True\n",
            "A_12.jpg \t -->  A (0.87 %) True \t 4 (0.12 %) False\n",
            "A_11.jpg \t -->  A (0.96 %) True \t 4 (0.02 %) False\n",
            "A_2.jpg \t -->  A (0.76 %) True \t 4 (0.23 %) False\n",
            "A_1.jpg \t -->  A (0.95 %) True \t 4 (0.05 %) False\n",
            "10.jpg \t -->  9 (1.00 %) False \t 4 (0.00 %) False\n",
            "A_8.jpg \t -->  4 (0.92 %) False \t A (0.06 %) True\n",
            "A_6.jpg \t -->  9 (0.57 %) False \t A (0.42 %) True\n",
            "9.jpg \t -->  4 (0.63 %) False \t A (0.27 %) True\n",
            "A_15.jpg \t -->  4 (0.94 %) False \t A (0.05 %) True\n",
            "A_14 (2).jpg \t -->  A (0.49 %) True \t 4 (0.38 %) False\n",
            "A_0.jpg \t -->  4 (0.94 %) False \t A (0.05 %) True\n",
            "A_13.jpg \t -->  9 (0.60 %) False \t A (0.33 %) True\n",
            "A_9.jpg \t -->  A (0.95 %) True \t 4 (0.05 %) False\n",
            "A_10.jpg \t -->  A (0.48 %) True \t M (0.31 %) False\n",
            "A_7.jpg \t -->  9 (0.85 %) False \t A (0.11 %) True\n",
            "11.jpg \t -->  9 (0.51 %) False \t A (0.37 %) True\n",
            "G_5.jpg \t -->  9 (0.47 %) False \t G (0.29 %) True\n",
            "G_2.jpg \t -->  9 (1.00 %) False \t M (0.00 %) False\n",
            "G_1.jpg \t -->  9 (0.96 %) False \t M (0.03 %) False\n",
            "G_0.jpg \t -->  9 (0.99 %) False \t G (0.00 %) True\n",
            "G_9.jpg \t -->  9 (0.99 %) False \t S (0.00 %) False\n",
            "G_6.jpg \t -->  9 (0.93 %) False \t 3 (0.02 %) False\n",
            "G_4.jpg \t -->  9 (0.99 %) False \t G (0.01 %) True\n",
            "G_7.jpg \t -->  9 (0.91 %) False \t B (0.07 %) False\n",
            "G_3.jpg \t -->  9 (1.00 %) False \t G (0.00 %) True\n",
            "G_8.jpg \t -->  9 (0.99 %) False \t S (0.00 %) False\n",
            "P_6.jpg \t -->  M (0.39 %) False \t 0 (0.17 %) False\n",
            "P_0.jpg \t -->  9 (0.75 %) False \t 3 (0.13 %) False\n",
            "P_4.jpg \t -->  8 (0.48 %) False \t 9 (0.45 %) False\n",
            "P_7.jpg \t -->  R (0.98 %) False \t P (0.01 %) True\n",
            "P_5.jpg \t -->  M (0.88 %) False \t N (0.04 %) False\n",
            "P_3.jpg \t -->  9 (0.49 %) False \t M (0.33 %) False\n",
            "P_1.jpg \t -->  9 (0.76 %) False \t 8 (0.23 %) False\n",
            "P_8.jpg \t -->  R (0.98 %) False \t P (0.01 %) True\n",
            "P_2.jpg \t -->  8 (0.69 %) False \t S (0.11 %) False\n",
            "P_9.jpg \t -->  8 (0.57 %) False \t 9 (0.25 %) False\n",
            "H_5.jpg \t -->  U (0.57 %) False \t D (0.13 %) False\n",
            "H_2.jpg \t -->  H (0.36 %) True \t D (0.32 %) False\n",
            "H_8.jpg \t -->  H (0.94 %) True \t U (0.04 %) False\n",
            "H_6.jpg \t -->  H (0.92 %) True \t U (0.04 %) False\n",
            "H_9.jpg \t -->  H (0.97 %) True \t U (0.02 %) False\n",
            "H_4.jpg \t -->  U (0.90 %) False \t H (0.07 %) True\n",
            "H_1.jpg \t -->  B (0.36 %) False \t 5 (0.20 %) False\n",
            "H_3.jpg \t -->  H (0.91 %) True \t U (0.08 %) False\n",
            "H_7.jpg \t -->  H (0.96 %) True \t U (0.02 %) False\n",
            "H_0.jpg \t -->  M (0.51 %) False \t R (0.30 %) False\n",
            "5_3.jpg \t -->  6 (0.33 %) False \t 3 (0.31 %) False\n",
            "5_2.jpg \t -->  9 (0.99 %) False \t S (0.01 %) False\n",
            "5_9.jpg \t -->  9 (0.84 %) False \t S (0.07 %) False\n",
            "5_6.jpg \t -->  S (0.38 %) False \t 6 (0.35 %) False\n",
            "5_5.jpg \t -->  3 (0.46 %) False \t S (0.26 %) False\n",
            "5_0.jpg \t -->  9 (0.59 %) False \t S (0.21 %) False\n",
            "5_4.jpg \t -->  9 (0.63 %) False \t S (0.27 %) False\n",
            "5_7.jpg \t -->  9 (1.00 %) False \t S (0.00 %) False\n",
            "5_1.jpg \t -->  9 (1.00 %) False \t M (0.00 %) False\n",
            "5_8.jpg \t -->  9 (0.84 %) False \t S (0.11 %) False\n"
          ],
          "name": "stdout"
        }
      ]
    },
    {
      "cell_type": "markdown",
      "metadata": {
        "id": "vJyMrr96FdOf"
      },
      "source": [
        ""
      ]
    }
  ]
}